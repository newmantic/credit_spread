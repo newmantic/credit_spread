{
  "nbformat": 4,
  "nbformat_minor": 0,
  "metadata": {
    "colab": {
      "provenance": [],
      "authorship_tag": "ABX9TyMPNEX6kpaWxVFYtmp0jxr1",
      "include_colab_link": true
    },
    "kernelspec": {
      "name": "python3",
      "display_name": "Python 3"
    },
    "language_info": {
      "name": "python"
    }
  },
  "cells": [
    {
      "cell_type": "markdown",
      "metadata": {
        "id": "view-in-github",
        "colab_type": "text"
      },
      "source": [
        "<a href=\"https://colab.research.google.com/github/newmantic/credit_spread/blob/main/credit_spread_.ipynb\" target=\"_parent\"><img src=\"https://colab.research.google.com/assets/colab-badge.svg\" alt=\"Open In Colab\"/></a>"
      ]
    },
    {
      "cell_type": "code",
      "execution_count": 7,
      "metadata": {
        "id": "WP_IguRcot-Q"
      },
      "outputs": [],
      "source": [
        "import numpy as np\n",
        "\n",
        "def calculate_credit_spread(corporate_bond_yield: float, risk_free_yield: float) -> float:\n",
        "    \"\"\"\n",
        "    Calculate the credit spread between a corporate bond and a risk-free bond.\n",
        "\n",
        "    Args:\n",
        "    corporate_bond_yield (float): Yield of the corporate bond.\n",
        "    risk_free_yield (float): Yield of the risk-free bond.\n",
        "\n",
        "    Returns:\n",
        "    float: Credit spread.\n",
        "    \"\"\"\n",
        "    return corporate_bond_yield - risk_free_yield\n",
        "\n",
        "def credit_spread_curve(corporate_bond_yields: list, risk_free_yields: list) -> list:\n",
        "    \"\"\"\n",
        "    Generate a credit spread curve over different maturities.\n",
        "\n",
        "    Args:\n",
        "    corporate_bond_yields (list): List of corporate bond yields.\n",
        "    risk_free_yields (list): List of corresponding risk-free bond yields.\n",
        "\n",
        "    Returns:\n",
        "    list: Credit spread curve.\n",
        "    \"\"\"\n",
        "    return [calculate_credit_spread(cy, rf) for cy, rf in zip(corporate_bond_yields, risk_free_yields)]\n",
        "\n",
        "def adjusted_bond_price(face_value: float, coupon_rate: float, years_to_maturity: int, credit_spread: float, risk_free_yield: float) -> float:\n",
        "    \"\"\"\n",
        "    Adjust the price of a corporate bond considering the credit spread.\n",
        "\n",
        "    Args:\n",
        "    face_value (float): Face value of the bond.\n",
        "    coupon_rate (float): Annual coupon rate.\n",
        "    years_to_maturity (int): Number of years to maturity.\n",
        "    credit_spread (float): Credit spread of the bond.\n",
        "    risk_free_yield (float): Yield of the risk-free bond.\n",
        "\n",
        "    Returns:\n",
        "    float: Adjusted bond price.\n",
        "    \"\"\"\n",
        "    adjusted_yield = risk_free_yield + credit_spread\n",
        "    coupon = face_value * coupon_rate\n",
        "    price = sum([coupon / (1 + adjusted_yield)**i for i in range(1, years_to_maturity + 1)]) + face_value / (1 + adjusted_yield)**years_to_maturity\n",
        "    return price\n",
        "\n",
        "def spread_to_default_probability(credit_spread: float, volatility: float, recovery_rate: float) -> float:\n",
        "    \"\"\"\n",
        "    Estimate the default probability implied by the credit spread.\n",
        "\n",
        "    Args:\n",
        "    credit_spread (float): Credit spread of the bond.\n",
        "    volatility (float): Volatility of the bond's yield.\n",
        "    recovery_rate (float): Recovery rate in case of default.\n",
        "\n",
        "    Returns:\n",
        "    float: Implied default probability.\n",
        "    \"\"\"\n",
        "    # Simplified example, normally derived from structural models like Merton.\n",
        "    return credit_spread / ((1 - recovery_rate) * volatility)\n",
        "\n",
        "def spread_sensitivity_analysis(credit_spread: float, delta_spread: float, face_value: float, coupon_rate: float, years_to_maturity: int, risk_free_yield: float) -> float:\n",
        "    \"\"\"\n",
        "    Analyze the impact of a change in credit spread on bond price.\n",
        "\n",
        "    Args:\n",
        "    credit_spread (float): Initial credit spread of the bond.\n",
        "    delta_spread (float): Change in the credit spread.\n",
        "    face_value (float): Face value of the bond.\n",
        "    coupon_rate (float): Annual coupon rate.\n",
        "    years_to_maturity (int): Number of years to maturity.\n",
        "    risk_free_yield (float): Yield of the risk-free bond.\n",
        "\n",
        "    Returns:\n",
        "    float: Change in bond price.\n",
        "    \"\"\"\n",
        "    initial_price = adjusted_bond_price(face_value, coupon_rate, years_to_maturity, credit_spread, risk_free_yield)\n",
        "    new_price = adjusted_bond_price(face_value, coupon_rate, years_to_maturity, credit_spread + delta_spread, risk_free_yield)\n",
        "    return new_price - initial_price"
      ]
    },
    {
      "cell_type": "code",
      "source": [
        "# Test case 1: Calculate credit spread\n",
        "corporate_yield = 0.05\n",
        "risk_free_yield = 0.03\n",
        "spread = calculate_credit_spread(corporate_yield, risk_free_yield)\n",
        "print(f\"Credit Spread: {spread}\")  # Expected: 0.02\n",
        "\n",
        "# Test case 2: Credit spread curve\n",
        "corp_yields = [0.05, 0.055, 0.06]\n",
        "risk_free_yields = [0.03, 0.035, 0.04]\n",
        "spread_curve = credit_spread_curve(corp_yields, risk_free_yields)\n",
        "print(f\"Credit Spread Curve: {spread_curve}\")  # Expected: [0.02, 0.02, 0.02]\n",
        "\n",
        "# Test case 3: Adjusted bond price\n",
        "face_value = 1000\n",
        "coupon_rate = 0.05\n",
        "years_to_maturity = 5\n",
        "spread = 0.02\n",
        "adjusted_price = adjusted_bond_price(face_value, coupon_rate, years_to_maturity, spread, risk_free_yield)\n",
        "print(f\"Adjusted Bond Price: {adjusted_price}\")  # Expected: Calculated bond price\n",
        "\n",
        "# Test case 4: Spread to default probability\n",
        "volatility = 0.2\n",
        "recovery_rate = 0.4\n",
        "default_prob = spread_to_default_probability(spread, volatility, recovery_rate)\n",
        "print(f\"Implied Default Probability: {default_prob}\")  # Expected: Calculated default probability\n",
        "\n",
        "# Test case 5: Spread sensitivity analysis\n",
        "delta_spread = 0.005\n",
        "sensitivity = spread_sensitivity_analysis(spread, delta_spread, face_value, coupon_rate, years_to_maturity, risk_free_yield)\n",
        "print(f\"Sensitivity to Spread Change: {sensitivity}\")  # Expected: Change in bond price"
      ],
      "metadata": {
        "colab": {
          "base_uri": "https://localhost:8080/"
        },
        "id": "JAkMpMbPpjYA",
        "outputId": "0f1f2c51-72c3-458c-8ae2-9aa4369288f8"
      },
      "execution_count": 8,
      "outputs": [
        {
          "output_type": "stream",
          "name": "stdout",
          "text": [
            "Credit Spread: 0.020000000000000004\n",
            "Credit Spread Curve: [0.020000000000000004, 0.019999999999999997, 0.019999999999999997]\n",
            "Adjusted Bond Price: 999.9999999999998\n",
            "Implied Default Probability: 0.16666666666666669\n",
            "Sensitivity to Spread Change: -21.351422378095094\n"
          ]
        }
      ]
    }
  ]
}